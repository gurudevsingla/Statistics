{
 "cells": [
  {
   "cell_type": "markdown",
   "id": "8b982437",
   "metadata": {},
   "source": [
    "### Question 1: What is the Probability density function?"
   ]
  },
  {
   "cell_type": "markdown",
   "id": "ddc58685",
   "metadata": {},
   "source": [
    "Probability density function is a function that provides the likelihood that the value of a random variable will fall between a certain range of values. We use the probability density function in the case of continuous random variables. For discrete random variables, we use the probability mass function which is analogous to the probability density function.\n",
    "\n",
    "The PDF of a continuous random variable is defined as the derivative of its cumulative distribution function (CDF). The CDF gives the probability that a random variable takes on a value less than or equal to a given value.\n",
    "\n",
    "The PDF is used to calculate the probability that a random variable falls within a certain range of values, by integrating the PDF over that range. The area under the PDF curve represents the total probability of all possible values of the random variable.\n",
    "\n",
    "In summary, the PDF provides a way to quantify the probability distribution of a continuous random variable, making it a useful tool in many fields including statistics, physics, and engineering."
   ]
  },
  {
   "cell_type": "markdown",
   "id": "e9c40f44",
   "metadata": {},
   "source": [
    "### Question 2: What are the types of Probability distribution?"
   ]
  },
  {
   "cell_type": "markdown",
   "id": "5d580511",
   "metadata": {},
   "source": [
    "There are many types of probability distributions, but some of the most common ones are:\n",
    "\n",
    "**Normal distribution**: Also known as the Gaussian distribution, it is one of the most important distributions in statistics. It is often used to model natural phenomena such as the heights and weights of a population, and it is characterized by a bell-shaped curve.\n",
    "\n",
    "**Binomial distribution**: This distribution describes the number of successes in a fixed number of independent trials, where each trial has the same probability of success. It is often used in experiments where there are only two possible outcomes, such as coin flips or medical treatments.\n",
    "\n",
    "**Poisson distribution**: This distribution describes the number of occurrences of a rare event within a fixed time or space. It is often used in modeling the number of customers arriving at a store or the number of defects in a manufacturing process.\n",
    "\n",
    "**Exponential distribution**: This distribution describes the time between two successive events in a Poisson process. It is often used in modeling the lifetimes of electronic components or the time between customer arrivals at a store.\n",
    "\n",
    "**Uniform distribution**: This distribution describes a random variable that is equally likely to take on any value within a certain range. It is often used in simulation models or in random number generation."
   ]
  },
  {
   "cell_type": "markdown",
   "id": "24ced628",
   "metadata": {},
   "source": [
    "### Question 3: Write a Python function to calculate the probability density function of a normal distribution with given mean and standard deviation at a given point."
   ]
  },
  {
   "cell_type": "code",
   "execution_count": 1,
   "id": "d472e4c9",
   "metadata": {},
   "outputs": [],
   "source": [
    "import math\n",
    "\n",
    "def normal_pdf(x, mean, std_dev):\n",
    "    \"\"\"\n",
    "    Calculates the probability density function (PDF) of a normal distribution\n",
    "    with a given mean and standard deviation at a given point x.\n",
    "    \"\"\"\n",
    "    variance = std_dev ** 2\n",
    "    exponent = -((x - mean) ** 2) / (2 * variance)\n",
    "    coefficient = 1 / math.sqrt(2 * math.pi * variance)\n",
    "    pdf = coefficient * math.exp(exponent)\n",
    "    return pdf"
   ]
  },
  {
   "cell_type": "markdown",
   "id": "35b5aeb6",
   "metadata": {},
   "source": [
    "#### Example calculating pdf for Normal Distribution at x=3 with mean=2 and std_dev=1.5"
   ]
  },
  {
   "cell_type": "code",
   "execution_count": 2,
   "id": "1c9efbaa",
   "metadata": {},
   "outputs": [
    {
     "data": {
      "text/plain": [
       "0.2129653370149015"
      ]
     },
     "execution_count": 2,
     "metadata": {},
     "output_type": "execute_result"
    }
   ],
   "source": [
    "normal_pdf(x=3,mean=2,std_dev=1.5)"
   ]
  },
  {
   "cell_type": "markdown",
   "id": "6e65f9bd",
   "metadata": {},
   "source": [
    "### Question 4 : What are the properties of Binomial distribution? Give two examples of events where binomial distribution can be applied."
   ]
  },
  {
   "cell_type": "markdown",
   "id": "9a207de8",
   "metadata": {},
   "source": [
    "The Binomial distribution is a discrete probability distribution that describes the number of successes in a fixed number of independent trials, where each trial has the same probability of success. The key properties of the Binomial distribution are:\n",
    "The number of trials n is fixed and known in advance.\n",
    "\n",
    "Each trial is independent of the others.\n",
    "\n",
    "There are only two possible outcomes for each trial: success or failure.\n",
    "\n",
    "The probability of success p is the same for each trial.\n",
    "\n",
    "Some examples of events where the Binomial distribution can be applied are:\n",
    "\n",
    "Flipping a coin multiple times and counting the number of times it lands on heads. Here, each coin flip is an independent trial, and there are only two possible outcomes (heads or tails) with a fixed probability of success (0.5 assuming a fair coin).\n",
    "\n",
    "Testing a new drug to see how many patients respond positively. Here, each patient is an independent trial, and there are only two possible outcomes (response or no response) with a fixed probability of success (based on the effectiveness of the drug).\n",
    "\n",
    "In general, the Binomial distribution is useful in any situation where we want to model the number of successes in a fixed number of independent trials, where each trial has the same probability of success."
   ]
  },
  {
   "cell_type": "markdown",
   "id": "e05a21d5",
   "metadata": {},
   "source": [
    "### Question 5: Generate a random sample of size 1000 from a binomial distribution with probability of success 0.4 and plot a histogram of the results using matplotlib."
   ]
  },
  {
   "cell_type": "code",
   "execution_count": 5,
   "id": "d5521a4e",
   "metadata": {},
   "outputs": [
    {
     "data": {
      "image/png": "[encoded data removed]",
      "text/plain": [
       "<Figure size 640x480 with 1 Axes>"
      ]
     },
     "metadata": {},
     "output_type": "display_data"
    }
   ],
   "source": [
    "import numpy as np\n",
    "import matplotlib.pyplot as plt\n",
    "\n",
    "# Generate a random sample of size 1000 from a Binomial distribution\n",
    "n = 1000  # Sample size\n",
    "p = 0.4  # Probability of success\n",
    "sample = np.random.binomial(n, p, size=1000)\n",
    "\n",
    "# Plot a histogram of the results using Fredman diaconis rule i.e. bins='fd'\n",
    "plt.hist(sample,bins='fd',density=True, edgecolor='black')\n",
    "plt.xlabel('Number of Successes')\n",
    "plt.ylabel('Probability')\n",
    "plt.title('Binomial Distribution (n=1000, p=0.4)')\n",
    "plt.show()"
   ]
  },
  {
   "cell_type": "markdown",
   "id": "c1fbe103",
   "metadata": {},
   "source": [
    "### Question 6 : Write a Python function to calculate the cumulative distribution function of a Poisson distribution with given mean at a given point."
   ]
  },
  {
   "cell_type": "code",
   "execution_count": 8,
   "id": "a3d789f1",
   "metadata": {},
   "outputs": [],
   "source": [
    "import math\n",
    "\n",
    "def poisson_cdf(mean, point):\n",
    "    \"\"\"\n",
    "    Calculates the cumulative distribution function of a \n",
    "    Poisson distribution with given mean at a given point\n",
    "    \"\"\"\n",
    "    cdf = 0\n",
    "    for k in range(point + 1):\n",
    "        cdf = cdf + math.exp(-mean) * pow(mean, k) / math.factorial(k)\n",
    "    return cdf"
   ]
  },
  {
   "cell_type": "markdown",
   "id": "2aa01f33",
   "metadata": {},
   "source": [
    "#### Example Calculating CDF of poission Distribution with mean = 4 at x = 2"
   ]
  },
  {
   "cell_type": "code",
   "execution_count": 9,
   "id": "4bda901a",
   "metadata": {},
   "outputs": [
    {
     "name": "stdout",
     "output_type": "stream",
     "text": [
      "Poison cdf for mean = 4 at x = 2 is 0.2381\n"
     ]
    },
    {
     "data": {
      "text/plain": [
       "0.23810330555354436"
      ]
     },
     "execution_count": 9,
     "metadata": {},
     "output_type": "execute_result"
    }
   ],
   "source": [
    "result = poisson_cdf(mean=4,point=2)\n",
    "print(f'Poison cdf for mean = 4 at x = 2 is {round(result,4)}')\n",
    "from scipy.stats import poisson\n",
    "poisson.cdf(2,mu=4)"
   ]
  },
  {
   "cell_type": "markdown",
   "id": "78ab2564",
   "metadata": {},
   "source": [
    "### Question 7 : How Binomial distribution different from Poisson distribution?"
   ]
  },
  {
   "cell_type": "markdown",
   "id": "dca3dd16",
   "metadata": {},
   "source": [
    "Differences in formula of pdf,cdf,mean,variances\n",
    "\n",
    "Parameter : n is number of trials, p is probability of success in BD,\n",
    "lambda is average number of rare events in interval in PD\n",
    "\n",
    "Assumption : Trials are independent\tin BD,\n",
    "Events occur independently of one another in PD\n",
    "\n",
    "Shape : Bell-shaped in BD,\n",
    "Skewed to the right in PD"
   ]
  },
  {
   "cell_type": "markdown",
   "id": "146ebe34",
   "metadata": {},
   "source": [
    "### Question 8 : Generate a random sample of size 1000 from a Poisson distribution with mean 5 and calculate the sample mean and variance"
   ]
  },
  {
   "cell_type": "code",
   "execution_count": 10,
   "id": "0027da9d",
   "metadata": {},
   "outputs": [
    {
     "name": "stdout",
     "output_type": "stream",
     "text": [
      "Poission Sample Mean     : 4.985\n",
      "Poission Sample Variance : 4.9967749999999995\n"
     ]
    }
   ],
   "source": [
    "import numpy as np\n",
    "\n",
    "# Set the random seed for reproducibility\n",
    "np.random.seed(42)\n",
    "\n",
    "# Generate a random sample of size 1000 from a Poisson distribution with mean 5\n",
    "sample = np.random.poisson(lam=5, size=1000)\n",
    "\n",
    "# Calculate the sample mean and variance\n",
    "sample_mean = np.mean(sample)\n",
    "sample_var = np.var(sample)\n",
    "\n",
    "# Printing the output\n",
    "print(\"Poission Sample Mean     :\", sample_mean)\n",
    "print(\"Poission Sample Variance :\", sample_var)"
   ]
  },
  {
   "cell_type": "markdown",
   "id": "c330cd14",
   "metadata": {},
   "source": [
    "### Question 9 : How mean and variance are related in Binomial distribution and Poisson distribution?"
   ]
  },
  {
   "cell_type": "markdown",
   "id": "944198b1",
   "metadata": {},
   "source": [
    "**1.Binomial Distribution**\n",
    "\n",
    "In the binomial distribution, the mean (or expected value) and variance are related as follows:\n",
    "\n",
    "Mean = np\n",
    "\n",
    "Variance = np(1-p)\n",
    "\n",
    "Where n is the number of trials, p is the probability of success in each trial, np is the expected number of successes, and np(1-p) is the variance.\n",
    "\n",
    "**2.Poission Distribution**\n",
    "\n",
    "In the Poisson distribution, the mean (or expected value) and variance are related as follows:\n",
    "\n",
    "Mean = Variance = λ\n",
    "\n",
    "where λ is the average number of rare events in the interval."
   ]
  },
  {
   "cell_type": "markdown",
   "id": "25ee6978",
   "metadata": {},
   "source": [
    "### Question 10 : In normal distribution with respect to mean position, where does the least frequent data appear?"
   ]
  },
  {
   "cell_type": "markdown",
   "id": "8b5cd462",
   "metadata": {},
   "source": [
    "In a normal distribution, the least frequent data appear in the tails of the distribution, which are the regions that are farthest from the mean. The tails of a normal distribution represent the extreme values of the variable being measured, which are less common than the values closer to the mean.\n",
    "\n",
    "For example, if we have a normal distribution with mean 0 and standard deviation 1, the least frequent data will appear in the tails of the distribution, which are the regions beyond 3 standard deviations from the mean. This is because the normal distribution is symmetric around the mean, and the probability density decreases rapidly as we move away from the mean towards the tails of the distribution. The probability of observing a value in the tails of a normal distribution is relatively low compared to the probability of observing a value closer to the mean."
   ]
  },
  {
   "cell_type": "code",
   "execution_count": null,
   "id": "cbbd6e66",
   "metadata": {},
   "outputs": [],
   "source": []
  }
 ],
 "metadata": {
  "kernelspec": {
   "display_name": "Python 3 (ipykernel)",
   "language": "python",
   "name": "python3"
  },
  "language_info": {
   "codemirror_mode": {
    "name": "ipython",
    "version": 3
   },
   "file_extension": ".py",
   "mimetype": "text/x-python",
   "name": "python",
   "nbconvert_exporter": "python",
   "pygments_lexer": "ipython3",
   "version": "3.9.13"
  }
 },
 "nbformat": 4,
 "nbformat_minor": 5
}
