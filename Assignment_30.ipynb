{
 "cells": [
  {
   "cell_type": "markdown",
   "id": "e0833299",
   "metadata": {},
   "source": [
    "### Question 1: What is Statistics?"
   ]
  },
  {
   "cell_type": "markdown",
   "id": "9f5db925",
   "metadata": {},
   "source": [
    "Statistics is a branch of mathematics that deals with the collection, analysis, interpretation, presentation, and organization of data. It involves the use of quantitative methods to extract meaning and insights from data sets. Statistics can be applied to a wide range of fields, including business, economics, social sciences, natural sciences, medicine, engineering, and many others.\n",
    "In essence, statistics is all about making sense of the information we have by using mathematical techniques and tools to find patterns, relationships, and trends within the data. This helps us make informed decisions, draw accurate conclusions, and solve real-world problems.\n",
    "For example : Imagine a company wants to know how many of their customers are satisfied with their product. They could collect data from a survey and use statistical methods to analyze the results, such as calculating the percentage of satisfied customers, identifying common themes in feedback, and comparing results across different demographics. This information can help the company make improvements to their product and increase customer satisfaction."
   ]
  },
  {
   "cell_type": "markdown",
   "id": "bfe31189",
   "metadata": {},
   "source": [
    "### Question 2: Define the different types of statistics and give an example of when each type might be used."
   ]
  },
  {
   "cell_type": "markdown",
   "id": "a12c0615",
   "metadata": {},
   "source": [
    "Descriptive statistics: Descriptive statistics involves summarizing and describing data through measures such as mean, median, mode, range, standard deviation, and variance. These statistics help us understand the characteristics of the data, such as its central tendency, variability, and distribution.\n",
    "Example : A researcher wants to study the distribution of ages in a population. They collect data on the ages of a sample of people and use descriptive statistics to calculate the mean, median, and standard deviation of the ages. This information can help the researcher describe the age distribution of the population and identify any outliers or patterns in the data.\n",
    "\n",
    "Inferential statistics: Inferential statistics involves making predictions or drawing conclusions about a population based on a sample of data. This type of statistics uses probability theory to estimate the likelihood that a particular conclusion is true.\n",
    "Example: A pharmaceutical company wants to test the effectiveness of a new drug. They conduct a randomized controlled trial with a sample of patients and use inferential statistics to determine whether the drug has a significant effect compared to a placebo. This information can help the company make decisions about whether to pursue further research or seek approval from regulatory agencies."
   ]
  },
  {
   "cell_type": "markdown",
   "id": "a1818216",
   "metadata": {},
   "source": [
    "### Question 3: What are the different types of data and how do they differ from each other? Provide an example of each type of data."
   ]
  },
  {
   "cell_type": "markdown",
   "id": "2770afde",
   "metadata": {},
   "source": [
    "#### Qualitative and quantitative data are two broad categories of data.\n",
    "1.Qualitative data consists of descriptive or categorical information.\n",
    "\n",
    "2.Quantitative data consists of numerical measurements.\n",
    "\n",
    "Qualitative and Quantiative are further classified into below categories :\n",
    "#### Qualitative Data :\n",
    "1.Nominal Data\n",
    "\n",
    "2.Ordinal \n",
    "#### Quantiative Data :\n",
    "1.Discrete Data\n",
    "\n",
    "2.Continuous Data"
   ]
  },
  {
   "cell_type": "markdown",
   "id": "011ea28d",
   "metadata": {},
   "source": [
    "**Qualitative/Nominal** : Descriptive or categorical information that cannot be ranked or ordered, ex : gender, car manufacturer, Cuisine\n",
    "\n",
    "**Qualitative/Ordinal** : Descriptive or categorical information that can be ranked or ordered, but the intervals between categories are not necessarily equal, ex : Education level, socioeconomic status,Clothing Sizes(S,M,L,XL)\n",
    "\n",
    "**Quantitative/Discrete** :\tNumerical values that can only take on specific values, typically integers, ex : Number of children in a family, number of cars in a household\n",
    "\n",
    "**Quantitative/Continuous** : Numerical values that can take on any value within a range, ex : Length, Temperature, Humidity, Time"
   ]
  },
  {
   "cell_type": "markdown",
   "id": "abaaa8a8",
   "metadata": {},
   "source": [
    "### Question 4: Categorise the following datasets with respect to quantitative and qualitative data types:\n",
    "#### 1. Grading in exam: A+, A, B+, B, C+, C, D, E\n",
    "#### 2. Colour of mangoes: yellow, green, orange, red\n",
    "#### 3. Height data of a class: [178.9, 179, 179.5, 176, 177.2, 178.3, 175.8,...]\n",
    "#### 4. Number of mangoes exported by a farm: [500, 600, 478, 672, …]"
   ]
  },
  {
   "cell_type": "markdown",
   "id": "d25e57cb",
   "metadata": {},
   "source": [
    "1.Qualitative Ordinal\n",
    "\n",
    "2.Qualitative Nominal\n",
    "\n",
    "3.Quantitative Continuous\n",
    "\n",
    "4.Quantitative Discrete"
   ]
  },
  {
   "cell_type": "markdown",
   "id": "f421930c",
   "metadata": {},
   "source": [
    "### Question 5 : Explain the concept of levels of measurement and give an example of a variable for each level."
   ]
  },
  {
   "cell_type": "markdown",
   "id": "448fe527",
   "metadata": {},
   "source": [
    "The concept of levels of measurement, also known as scales of measurement, refers to the different ways in which data can be classified based on the type and properties of the variable being measured. There are four commonly recognized levels of measurement: nominal, ordinal, interval, and ratio."
   ]
  },
  {
   "cell_type": "markdown",
   "id": "ee5b11b2",
   "metadata": {},
   "source": [
    "**Nominal Categorical** : The variables with no inherent order or numerical value, ex : Country of origin, favorite color, political affiliation\n",
    "\n",
    "**Ordinal\tCategorical** : The variables with a specific order or rank, but unequal or non-meaningful differences between categories,ex : Likert scale responses (strongly disagree, disagree, neutral, agree, strongly agree), stage of cancer (stage I, stage II, stage III, stage IV)\n",
    "\n",
    "**Interval** : Numerical variables with a specific order and equal intervals between values, but no true zero point,ex : Temperature (Celsius or Fahrenheit), Standardized test scores (SAT, ACT), credit scores, calendar years\n",
    "\n",
    "**Ratio** :\tNumerical variables with a specific order, equal intervals between values, and a true zero point,ex : income, distance traveled, age"
   ]
  },
  {
   "cell_type": "markdown",
   "id": "48d5bb50",
   "metadata": {},
   "source": [
    "### Question 6 : Why is it important to understand the level of measurement when analyzing data? Provide an example to illustrate your answer."
   ]
  },
  {
   "cell_type": "markdown",
   "id": "84bcfac3",
   "metadata": {},
   "source": [
    "Understanding the level of measurement of a variable is important because it determines the types of statistical analyses that can be performed and the appropriate interpretation of the results. In other words, the level of measurement helps researchers to identify the appropriate statistical procedures and tests to use when analyzing data. Using the wrong statistical procedure for a given level of measurement can result in misleading or inaccurate conclusions.\n",
    "\n",
    "For example, let's consider a study that examines the relationship between income and job satisfaction among employees in a company. The income variable is a ratio-level variable because it has a true zero point (no income) and equal intervals between values. In contrast, job satisfaction is an ordinal-level variable because it has a specific order or rank, but unequal or non-meaningful differences between categories. If the researcher were to use a correlation analysis to examine the relationship between these two variables, the result would be incorrect because correlation is only appropriate for ratio-level variables. Instead, a more appropriate statistical test for analyzing the relationship between a ratio-level and ordinal-level variable would be a chi-squared test or a t-test.\n",
    "\n",
    "In summary, understanding the level of measurement of variables is crucial for selecting appropriate statistical methods and interpreting results accurately in data analysis."
   ]
  },
  {
   "cell_type": "markdown",
   "id": "21fa9f48",
   "metadata": {},
   "source": [
    "### Question 7: How nominal data type is different from ordinal data type."
   ]
  },
  {
   "cell_type": "markdown",
   "id": "06de4f4b",
   "metadata": {},
   "source": [
    "Nominal and ordinal data are both types of categorical data, but they differ in the level of measurement and the type of information they provide.\n",
    "\n",
    "Nominal data is the lowest level of measurement and refers to data that is categorized without any numerical or quantitative value. In other words, nominal data consists of categories that are mutually exclusive and do not have any inherent order or ranking. Examples of nominal data include gender (male/female), hair color (blonde/brunette/red), and marital status (single/married/divorced).\n",
    "\n",
    "Ordinal data, on the other hand, is the second level of measurement and refers to data that has an inherent order or ranking, but the differences between categories may not be equal or meaningful. Examples of ordinal data include educational level (elementary school, high school, college), level of agreement (strongly disagree, disagree, neutral, agree, strongly agree), and rating scales (poor, fair, good, excellent)."
   ]
  },
  {
   "cell_type": "markdown",
   "id": "2f0d88d1",
   "metadata": {},
   "source": [
    "### Question 8 : Which type of plot can be used to display data in terms of range?"
   ]
  },
  {
   "cell_type": "markdown",
   "id": "19fd6601",
   "metadata": {},
   "source": [
    "Histogram,Boxplot/Whiskerplot"
   ]
  },
  {
   "cell_type": "markdown",
   "id": "cfb74d8d",
   "metadata": {},
   "source": [
    "### Question 9 : Describe the difference between descriptive and inferential statistics. Give an example of each type of statistics and explain how they are used."
   ]
  },
  {
   "cell_type": "markdown",
   "id": "8a997d5f",
   "metadata": {},
   "source": [
    "#### Definitions of Descriptive statistics and Inferential Statistics :\n",
    "1.Descriptive statistics are used to summarize and describe the basic features of a dataset. They are used to analyze the characteristics of the data, such as central tendency, variability, and distribution. Descriptive statistics do not allow for generalization of the data beyond the sample being analyzed.\n",
    "An example of descriptive statistics is calculating the mean, median, and mode of a dataset. These measures provide information about the central tendency of the data and are used to summarize the dataset. Another example of descriptive statistics is creating a histogram or bar chart to visually represent the distribution of the data.\n",
    "\n",
    "2.Inferential statistics, on the other hand, are used to make inferences or draw conclusions about a larger population based on a smaller sample of data. They allow researchers to make generalizations about the population and estimate the likelihood of certain outcomes based on the sample data.\n",
    "An example of inferential statistics is conducting a hypothesis test to determine if there is a significant difference between two groups of data. This involves calculating a test statistic and comparing it to a critical value to determine if the difference is statistically significant. Another example is calculating a confidence interval to estimate the range of values that a population parameter (e.g. mean or proportion) is likely to fall within."
   ]
  },
  {
   "cell_type": "markdown",
   "id": "eea250b3",
   "metadata": {},
   "source": [
    "### Question 10 : What are some common measures of central tendency and variability used in statistics? Explain how each measure can be used to describe a dataset."
   ]
  },
  {
   "cell_type": "markdown",
   "id": "e8700a9c",
   "metadata": {},
   "source": [
    "Measures of central tendency and variability are two types of descriptive statistics that are commonly used to summarize and describe a dataset.\n",
    "\n",
    "The main measures of central tendency include the mean, median, and mode, while the main measures of variability include the range, variance, and standard deviation\n",
    "\n",
    "**Central Tendency**\t\t\n",
    "\n",
    "1.Mean : Arithmetic average of a set of values\t\n",
    " \n",
    "2.Median : Middle value in a dataset when it is ordered from smallest to largest\t\n",
    "\n",
    "3.Mode : Most common value in a dataset\t\n",
    "\n",
    "**Variability**\t\t\n",
    "\n",
    "1.Range : Difference between the largest and smallest values in a dataset\t\n",
    "\n",
    "2.Variance : Average of the squared differences from the mean\t\n",
    " \n",
    "Standard Deviation : Square root of the variance\t\n",
    " \n",
    "The use of n-1 instead of n in the variance and standard deviation formulae is known as Bessel's correction, which is used to adjust for the fact that the sample variance tends to underestimate the true variance of the population."
   ]
  },
  {
   "cell_type": "code",
   "execution_count": null,
   "id": "b57d6e3f",
   "metadata": {},
   "outputs": [],
   "source": []
  }
 ],
 "metadata": {
  "kernelspec": {
   "display_name": "Python 3 (ipykernel)",
   "language": "python",
   "name": "python3"
  },
  "language_info": {
   "codemirror_mode": {
    "name": "ipython",
    "version": 3
   },
   "file_extension": ".py",
   "mimetype": "text/x-python",
   "name": "python",
   "nbconvert_exporter": "python",
   "pygments_lexer": "ipython3",
   "version": "3.9.13"
  }
 },
 "nbformat": 4,
 "nbformat_minor": 5
}
