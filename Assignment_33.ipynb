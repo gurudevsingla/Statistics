{
 "cells": [
  {
   "cell_type": "markdown",
   "id": "781a2d98",
   "metadata": {},
   "source": [
    "### Question 1 : What are the Probability Mass Function (PMF) and Probability Density Function (PDF)? Explain with an example."
   ]
  },
  {
   "cell_type": "markdown",
   "id": "caf0250c",
   "metadata": {},
   "source": [
    "The Probability Mass Function (PMF) and Probability Density Function (PDF) are both mathematical functions used to describe the probability distribution of a random variable.\n",
    "\n",
    "**1.Probability Mass Function (PMF)**\n",
    "\n",
    "The PMF is used for discrete random variables and gives the probability of each possible outcome. It is defined as follows:\n",
    "\n",
    "PMF(x) = P(X = x)\n",
    "\n",
    "where X is the random variable and x is a possible outcome. The PMF returns the probability of X being equal to x.\n",
    "For example, suppose we have a fair six-sided die. The PMF for this die would be\n",
    "\n",
    "PMF(1) = 1/6\n",
    "\n",
    "PMF(2) = 1/6\n",
    "\n",
    "PMF(3) = 1/6\n",
    "\n",
    "PMF(4) = 1/6\n",
    "\n",
    "PMF(5) = 1/6\n",
    "\n",
    "PMF(6) = 1/6\n",
    "\n",
    "This means that the probability of rolling a 1 is 1/6, the probability of rolling a 2 is 1/6, and so on. The PMF is a discrete function because the possible outcomes (1, 2, 3, 4, 5, and 6) are all distinct and countable.\n",
    "\n",
    "**2.Probability Density Function (PDF)**\n",
    "\n",
    "The PDF, on the other hand, is used for continuous random variables and gives the density of probability at each possible value of the variable. It is defined as follows:\n",
    "\n",
    "PDF(x) = dF(x) / dx\n",
    "\n",
    "where F(x) is the cumulative distribution function (CDF) of the variable. The PDF returns the density of probability at a particular value of X.\n",
    " \n",
    "This means that the density of probability at a particular value of X can be calculated using this function. The PDF is a continuous function because there are an infinite number of possible values for X, and it is not possible to count them all.\n",
    "\n"
   ]
  },
  {
   "cell_type": "markdown",
   "id": "6ed1e15c",
   "metadata": {},
   "source": [
    "### Question 2 : What is Cumulative Density Function (CDF)? Explain with an example. Why CDF is used?"
   ]
  },
  {
   "cell_type": "markdown",
   "id": "81ed8766",
   "metadata": {},
   "source": [
    "The Cumulative Distribution Function (CDF) is a mathematical function used to describe the probability distribution of a random variable. The CDF is defined as the probability that the variable takes on a value less than or equal to a given value. In other words, it gives the cumulative probability of the random variable up to a certain point.\n",
    "\n",
    "Mathematically, the CDF is expressed as:\n",
    "\n",
    "F(x)=P(X<=x),\n",
    "where X is the random variable and x is a possible value.\n",
    "\n",
    "Consider example of throwing a single dice : \n",
    "X={1,2,3,4,5,6}\n",
    "\n",
    "This is uniform distribution with p = 1/6\n",
    "If i have been asked to calculate probability of dice showing number less than or equal to 4 then\n",
    "\n",
    "F(4)=P(X<=4)=P(1)+P(2)+P(3)+P(4)=1/6 + 1/6 + 1/6 + 1/6 = 4/6 = 2/3"
   ]
  },
  {
   "cell_type": "markdown",
   "id": "3796f54c",
   "metadata": {},
   "source": [
    "### Question 3 : What are some examples of situations where the normal distribution might be used as a model? Explain how the parameters of the normal distribution relate to the shape of the distribution."
   ]
  },
  {
   "cell_type": "markdown",
   "id": "926d345f",
   "metadata": {},
   "source": [
    "The normal distribution, also known as the Gaussian distribution, is a commonly used probability distribution that is used to model a wide variety of real-world phenomena. Here are some examples of situations where the normal distribution might be used as a model:\n",
    "\n",
    "Height of a population: The normal distribution can be used to model the heights of a population. In this case, the mean and standard deviation of the distribution would reflect the average height and the degree of variation in height, respectively.\n",
    "\n",
    "IQ scores: IQ scores are often modeled using the normal distribution. In this case, the mean and standard deviation would reflect the average IQ score and the degree of variation in IQ scores, respectively.\n",
    "\n",
    "Measurement errors: The normal distribution can be used to model measurement errors in scientific experiments. The mean of the distribution would be zero (since the errors are assumed to be random and unbiased), and the standard deviation would reflect the degree of variability in the errors.\n",
    "\n",
    "The normal distribution is characterized by two parameters: the mean (μ) and the standard deviation (σ). The mean determines the location of the peak of the distribution, and the standard deviation determines the width of the distribution. Specifically, the greater the standard deviation, the wider the distribution will be.\n",
    "\n",
    "The normal distribution is a bell-shaped curve that is symmetrical around the mean. About 68% of the data falls within one standard deviation of the mean, about 95% falls within two standard deviations of the mean, and about 99.7% falls within three standard deviations of the mean. These properties make the normal distribution a convenient model for a wide variety of real-world phenomena."
   ]
  },
  {
   "cell_type": "markdown",
   "id": "f67a8f1b",
   "metadata": {},
   "source": [
    "### Question 4 : Explain the importance of Normal Distribution. Give a few real-life examples of Normal Distribution."
   ]
  },
  {
   "cell_type": "markdown",
   "id": "3260e3eb",
   "metadata": {},
   "source": [
    "Normal distribution, also known as Gaussian distribution, is a probability distribution that is widely used in statistics, data analysis, and modeling. It is an important concept in statistics because many natural phenomena can be modeled using normal distributions.\n",
    "\n",
    "The importance of normal distribution lies in its usefulness in approximating many real-world processes, allowing us to make predictions, estimate probabilities, and analyze data. The following are a few examples of real-life phenomena that can be modeled using normal distribution:\n",
    "\n",
    "**Body temperature**: The body temperature of a healthy human is normally distributed with an average of 98.6 degrees Fahrenheit and a standard deviation of about 0.7 degrees Farenheit.\n",
    "\n",
    "**Reaction time**: The reaction times of individuals can be modeled using normal distribution. Most people have an average reaction time, with fewer people having very fast or very slow reaction times.\n",
    "\n",
    "**Annual rainfall**: The amount of rainfall in a particular area over a year can be modeled using normal distribution, with most years having average rainfall and fewer years experiencing extreme droughts or floods.\n",
    "\n",
    "**Hospital stays**: The length of time a patient stays in a hospital can be modeled using normal distribution, with most patients staying for an average length of time and fewer patients having very short or very long stays.\n",
    "\n",
    "**Income distribution**: In many countries, income distribution can be modeled using a log-normal distribution, which is a variant of the normal distribution. This means that most people have an average income, with fewer people having very low or very high incomes.\n",
    "\n",
    "**Test-retest reliability**: In psychology, the test-retest reliability of psychological tests can be modeled using normal distribution. This measures the consistency of test scores when the same test is administered to the same individual on different occasions.\n",
    "\n",
    "These are just a few examples of how normal distribution can be used to model a wide variety of real-life phenomena."
   ]
  },
  {
   "cell_type": "markdown",
   "id": "c1019346",
   "metadata": {},
   "source": [
    "### Question 5 : What is Bernoulli Distribution? Give an Example. What is the difference between Bernoulli Distribution and Binomial Distribution"
   ]
  },
  {
   "cell_type": "markdown",
   "id": "a527fd62",
   "metadata": {},
   "source": [
    "Bernoulli distribution is a probability distribution that represents the outcome of a binary experiment, where the outcome can be either a success or a failure. It is named after Swiss mathematician Jacob Bernoulli, who developed the concept in the 17th century.\n",
    "\n",
    "The Bernoulli distribution is characterized by a single parameter p, which represents the probability of success in a single trial. The probability of failure is given by q = 1-p.\n",
    "\n",
    "Outcome\t: Single trial in Ber D, Multiple trial Bin D.\n",
    "\n",
    "Parameters : P (probability of success) in Ber D, n (number of trials) and p (probability of success in each trial) in Bin D.\n",
    "\n",
    "Random variable : X=1(success) or X=0(failure)\tin Ber D, X = number of successes in n trials.\n",
    "\n",
    "and differences in PMF,Mean and Variance."
   ]
  },
  {
   "cell_type": "markdown",
   "id": "0f249504",
   "metadata": {},
   "source": [
    "### Question 6 : Consider a dataset with a mean of 50 and a standard deviation of 10. If we assume that the dataset is normally distributed, what is the probability that a randomly selected observation will be greater than 60? Use the appropriate formula and show your calculation"
   ]
  },
  {
   "cell_type": "markdown",
   "id": "09173eb8",
   "metadata": {},
   "source": [
    "To find the probability that a randomly selected observation from a normal distribution with mean µ=50 and standard deviation σ=10 is greater than 60, we can use the standard normal distribution and the Z-score formula.\n",
    "\n",
    "The Z-score formula converts any value from a normal distribution to a standard normal distribution with mean 0 and standard deviation 1. The Z-score is calculated as:\n",
    "\n",
    "**Z = (x-µ) / σ**\n",
    " \n",
    "Where X is the observed value, µ is the mean, and σ is the standard deviation.\n",
    "\n",
    "In this case, we want to find the probability that a randomly selected observation will be greater than 60. We can calculate the Z-score for 60 as:\n",
    "\n",
    "**Z = (60-50) / 10 = 1**\n",
    "\n",
    "This means that 60 is one standard deviation above the mean of 50.\n",
    "\n",
    "Now, we can use a standard normal distribution Z table or a calculator to find the probability of a value being greater than 1 in a standard normal distribution.\n",
    "\n",
    "for Z=1 we have Left Side Area = 0.84134\n",
    "\n",
    "**P(Z<=1) = 0.84134**\n",
    "\n",
    "**P(Z>1) = 1-0.84134 = 0.15866**\n",
    "\n",
    "Hence for Normal distribution with Mean = 50 , Standard Deviation = 10 , Probability that Values is greater than 60 is 0.15866\n",
    "\n",
    "Verifying with scipy.stats :"
   ]
  },
  {
   "cell_type": "code",
   "execution_count": 1,
   "id": "31c73e98",
   "metadata": {},
   "outputs": [
    {
     "name": "stdout",
     "output_type": "stream",
     "text": [
      "The probability of an observation being greater than 60 is: 0.15866\n"
     ]
    }
   ],
   "source": [
    "from scipy.stats import norm\n",
    "\n",
    "mean = 50\n",
    "std_dev = 10\n",
    "observed_value = 60\n",
    "\n",
    "# calculate the z-score\n",
    "z_score = (observed_value - mean) / std_dev\n",
    "\n",
    "# calculate the probability using the cumulative distribution function (cdf)\n",
    "probability = 1 - norm.cdf(z_score)\n",
    "\n",
    "print(\"The probability of an observation being greater than 60 is:\", round(probability,5))"
   ]
  },
  {
   "cell_type": "markdown",
   "id": "51227d47",
   "metadata": {},
   "source": [
    "### Question 7 : Explain uniform Distribution with an example."
   ]
  },
  {
   "cell_type": "markdown",
   "id": "5fc48187",
   "metadata": {},
   "source": [
    "Uniform distribution is a probability distribution where every possible outcome has an equal chance of occurring. This means that the values of a random variable are spread evenly over a given interval or range.\n",
    "\n",
    "A classic example of a uniform distribution is the roll of a fair die. The die has six faces, each labeled with a number from 1 to 6, and all the faces are equally likely to come up when the die is rolled. Therefore, the probability of each outcome is 1/6, and this distribution is called a discrete uniform distribution.\n",
    "\n",
    "Lottery or raffle draws - If a lottery or raffle is conducted fairly, where each ticket has an equal chance of being drawn, the distribution of winning ticket numbers follows a discrete uniform distribution.\n"
   ]
  },
  {
   "cell_type": "markdown",
   "id": "c88cc9fb",
   "metadata": {},
   "source": [
    "### Question 8 : What is the Z score? State the importance of the Z score."
   ]
  },
  {
   "cell_type": "markdown",
   "id": "57f48195",
   "metadata": {},
   "source": [
    "A Z score (or standard score) is a measure of how many standard deviations an observation or data point is away from the mean of a population. The formula for calculating the Z score is:\n",
    "\n",
    "**Z = (x-µ) / σ**\n",
    "\n",
    "where x is the observed value, μ is the population mean, and σ is the population standard deviation.\n",
    "\n",
    "The importance of Z scores lies in their ability to standardize different data sets so they can be compared on a common scale. Z scores allow us to compare values from different populations or samples and see how much they differ from their respective means in standard deviation units. This makes it easier to interpret the significance of the differences between the data sets.\n",
    "\n",
    "In addition, Z scores can be used to calculate probabilities for a normal distribution using the standard normal distribution table. This table provides the probability of finding a value within a certain number of standard deviations from the mean.\n",
    "\n",
    "Z scores are commonly used in various fields such as statistics, finance, social sciences, and engineering for data analysis, hypothesis testing, and quality control. They are a powerful tool for analyzing and comparing data across different populations or samples.\n"
   ]
  },
  {
   "cell_type": "markdown",
   "id": "2d0f1d95",
   "metadata": {},
   "source": [
    "### Question 9 : What is Central Limit Theorem? State the significance of the Central Limit Theorem."
   ]
  },
  {
   "cell_type": "markdown",
   "id": "d1dc5884",
   "metadata": {},
   "source": [
    "The Central Limit Theorem (CLT) is a fundamental concept in statistics that describes the behavior of the means of a large number of independent and identically distributed random variables, regardless of the distribution of the underlying variables.\n",
    "\n",
    "The Central Limit Theorem states that if we take a large number of random samples from any distribution with a finite mean and variance, the sampling distribution of the means will be approximately normally distributed, regardless of the shape of the original distribution. This means that the means of the samples will tend to cluster around the true population mean, and the spread of the distribution of means will be reduced as the sample size increases.\n",
    "\n",
    "The significance of the Central Limit Theorem lies in its wide applicability in statistics and its practical implications. Some of the important applications of the Central Limit Theorem are:\n",
    "\n",
    "1.Hypothesis testing - The Central Limit Theorem is used to test hypotheses about the means of populations, where the distribution of the population is unknown or non-normal.\n",
    "\n",
    "2.Confidence intervals - The Central Limit Theorem is used to construct confidence intervals for the population mean, which helps in estimating the true mean of a population based on a sample mean.\n",
    "\n",
    "3.Sample size determination - The Central Limit Theorem is used to determine the sample size required for a given level of precision in estimating the population mean.\n",
    "\n",
    "4.Quality control - The Central Limit Theorem is used to monitor the quality of production processes by measuring the means of samples and comparing them to the population mean.\n",
    "\n",
    "In summary, the Central Limit Theorem is an essential concept in statistics that enables us to make inferences about populations based on samples, regardless of the underlying distribution of the data. It has important applications in various fields, making it a crucial tool for data analysis and decision-making.\n"
   ]
  },
  {
   "cell_type": "markdown",
   "id": "65333237",
   "metadata": {},
   "source": [
    "### Question 10 : State the assumptions of the Central Limit Theorem."
   ]
  },
  {
   "cell_type": "markdown",
   "id": "957e90c2",
   "metadata": {},
   "source": [
    "The Central Limit Theorem (CLT) has some assumptions that need to be satisfied for it to hold. The assumptions of the Central Limit Theorem are as follows:\n",
    "\n",
    "**1.Independence** - The samples must be independent of each other. In other words, the value of one sample should not depend on the value of another sample.\n",
    "\n",
    "**2.Sample size** - The sample size should be large enough. Generally, a sample size of at least 30 is considered to be large enough for the Central Limit Theorem to hold.\n",
    "\n",
    "**3.Random sampling** - The samples should be selected randomly from the population.\n",
    "\n",
    "**4.Finite population or replacement** - The population should be finite or the sampling should be done with replacement. If the population is infinite and the sampling is done without replacement, then the Central Limit Theorem may not hold.\n",
    "\n",
    "**5.Finite mean and variance** - The population should have a finite mean and variance. If the mean or variance is infinite, then the Central Limit Theorem may not hold.\n",
    "\n",
    "If these assumptions are satisfied, then the Central Limit Theorem can be applied to the data to make inferences about the population mean or other parameters. It is important to note that violating any of these assumptions can lead to incorrect results, so it is essential to check the validity of the assumptions before applying the Central Limit Theorem."
   ]
  },
  {
   "cell_type": "code",
   "execution_count": null,
   "id": "89705681",
   "metadata": {},
   "outputs": [],
   "source": []
  }
 ],
 "metadata": {
  "kernelspec": {
   "display_name": "Python 3 (ipykernel)",
   "language": "python",
   "name": "python3"
  },
  "language_info": {
   "codemirror_mode": {
    "name": "ipython",
    "version": 3
   },
   "file_extension": ".py",
   "mimetype": "text/x-python",
   "name": "python",
   "nbconvert_exporter": "python",
   "pygments_lexer": "ipython3",
   "version": "3.9.13"
  }
 },
 "nbformat": 4,
 "nbformat_minor": 5
}
